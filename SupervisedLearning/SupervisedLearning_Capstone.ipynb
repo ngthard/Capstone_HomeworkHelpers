{
  "nbformat": 4,
  "nbformat_minor": 0,
  "metadata": {
    "colab": {
      "provenance": []
    },
    "kernelspec": {
      "name": "python3",
      "display_name": "Python 3"
    },
    "language_info": {
      "name": "python"
    }
  },
  "cells": [
    {
      "cell_type": "code",
      "source": [
        "!pip install PyMuPDF\n"
      ],
      "metadata": {
        "colab": {
          "base_uri": "https://localhost:8080/"
        },
        "id": "KmrxDBFTgmt_",
        "outputId": "848e88e8-ae8e-4eb4-8c28-4dc45e0c9aa6"
      },
      "execution_count": 5,
      "outputs": [
        {
          "output_type": "stream",
          "name": "stdout",
          "text": [
            "Collecting PyMuPDF\n",
            "  Downloading PyMuPDF-1.24.7-cp310-none-manylinux2014_x86_64.whl (3.5 MB)\n",
            "\u001b[2K     \u001b[90m━━━━━━━━━━━━━━━━━━━━━━━━━━━━━━━━━━━━━━━━\u001b[0m \u001b[32m3.5/3.5 MB\u001b[0m \u001b[31m9.9 MB/s\u001b[0m eta \u001b[36m0:00:00\u001b[0m\n",
            "\u001b[?25hCollecting PyMuPDFb==1.24.6 (from PyMuPDF)\n",
            "  Downloading PyMuPDFb-1.24.6-py3-none-manylinux2014_x86_64.manylinux_2_17_x86_64.whl (15.7 MB)\n",
            "\u001b[2K     \u001b[90m━━━━━━━━━━━━━━━━━━━━━━━━━━━━━━━━━━━━━━━━\u001b[0m \u001b[32m15.7/15.7 MB\u001b[0m \u001b[31m27.5 MB/s\u001b[0m eta \u001b[36m0:00:00\u001b[0m\n",
            "\u001b[?25hInstalling collected packages: PyMuPDFb, PyMuPDF\n",
            "Successfully installed PyMuPDF-1.24.7 PyMuPDFb-1.24.6\n"
          ]
        }
      ]
    },
    {
      "cell_type": "code",
      "execution_count": 6,
      "metadata": {
        "colab": {
          "base_uri": "https://localhost:8080/",
          "height": 1000
        },
        "id": "A77OsPwigW6O",
        "outputId": "0b48631f-bdbc-442c-9f1f-e36a316a7037"
      },
      "outputs": [
        {
          "output_type": "stream",
          "name": "stdout",
          "text": [
            "Class distribution after RandomOverSampler: Counter({3: 40, 0: 40, 1: 40, 2: 40})\n",
            "              precision    recall  f1-score   support\n",
            "\n",
            "     English       1.00      1.00      1.00         8\n",
            " Mathematics       1.00      1.00      1.00         8\n",
            "      Others       1.00      1.00      1.00         8\n",
            "     Science       1.00      1.00      1.00         8\n",
            "\n",
            "    accuracy                           1.00        32\n",
            "   macro avg       1.00      1.00      1.00        32\n",
            "weighted avg       1.00      1.00      1.00        32\n",
            "\n"
          ]
        },
        {
          "output_type": "display_data",
          "data": {
            "text/plain": [
              "<Figure size 640x480 with 2 Axes>"
            ],
            "image/png": "[encoded data removed]"
          },
          "metadata": {}
        },
        {
          "output_type": "stream",
          "name": "stdout",
          "text": [
            "Top 10 positive features:\n",
            "literature: 0.2723521049111503\n",
            "test: 0.2685902013729744\n",
            "writing: 0.26047263156086486\n",
            "reading: 0.20842285340212646\n",
            "level: 0.18467194854361704\n",
            "date: 0.18365036973261642\n",
            "vocabulary: 0.17999010754040146\n",
            "outline: 0.16323233307501542\n",
            "cloze: 0.1624456535382757\n",
            "chapter: 0.16067062499438534\n",
            "\n",
            "Top 10 negative features:\n",
            "moves: -0.06222834156974536\n",
            "stored: -0.06492802836413039\n",
            "environments: -0.06690845960567592\n",
            "things: -0.07176810257063225\n",
            "new: -0.084963496598135\n",
            "companies: -0.09416059241127502\n",
            "york: -0.09423001951130547\n",
            "lesson: -0.13029529555351\n",
            "life: -0.1634658297565059\n",
            "review: -0.20972180756840741\n"
          ]
        }
      ],
      "source": [
        "import fitz  # PyMuPDF\n",
        "import re\n",
        "import os\n",
        "from sklearn.feature_extraction.text import CountVectorizer\n",
        "from sklearn.linear_model import LogisticRegression\n",
        "from sklearn.model_selection import train_test_split\n",
        "from sklearn.preprocessing import LabelEncoder\n",
        "from sklearn.metrics import classification_report, confusion_matrix, ConfusionMatrixDisplay\n",
        "from imblearn.over_sampling import RandomOverSampler\n",
        "from collections import Counter\n",
        "import matplotlib.pyplot as plt\n",
        "\n",
        "# Directory containing PDFs\n",
        "pdf_directory = '/content/drive/MyDrive/CapstoneData'\n",
        "\n",
        "# Function to extract text from a PDF file\n",
        "def extract_text_from_pdf(pdf_path):\n",
        "    pdf_document = fitz.open(pdf_path)\n",
        "    text_data = []\n",
        "    for page_num in range(len(pdf_document)):\n",
        "        page = pdf_document.load_page(page_num)\n",
        "        text = page.get_text()\n",
        "        text_data.append(text)\n",
        "    full_text = \"\\n\".join(text_data)\n",
        "    return full_text\n",
        "\n",
        "# Function to preprocess the extracted text\n",
        "def preprocess_text(text):\n",
        "    text = re.sub(r'\\s+', ' ', text)\n",
        "    chapters = text.split('CHAPTER')\n",
        "    return chapters\n",
        "\n",
        "# Function to classify text into subjects\n",
        "def classify_subject(text):\n",
        "    if re.search(r'\\b(math|algebra|geometry|calculus)\\b', text, re.IGNORECASE):\n",
        "        return 'Mathematics'\n",
        "    elif re.search(r'\\b(english|literature|grammar|reading|writing)\\b', text, re.IGNORECASE):\n",
        "        return 'English'\n",
        "    elif re.search(r'\\b(science|biology|chemistry|physics)\\b', text, re.IGNORECASE):\n",
        "        return 'Science'\n",
        "    else:\n",
        "        return 'Others'\n",
        "\n",
        "# Extract and preprocess text from all PDFs\n",
        "preprocessed_text = []\n",
        "for filename in os.listdir(pdf_directory):\n",
        "    if filename.endswith('.pdf'):\n",
        "        pdf_path = os.path.join(pdf_directory, filename)\n",
        "        full_text = extract_text_from_pdf(pdf_path)\n",
        "        preprocessed_text.extend(preprocess_text(full_text))\n",
        "\n",
        "# Vectorize the text data\n",
        "vectorizer = CountVectorizer(max_df=0.95, min_df=1, stop_words='english')\n",
        "text_data_vectorized = vectorizer.fit_transform(preprocessed_text)\n",
        "\n",
        "# Prepare the dataset\n",
        "X = text_data_vectorized\n",
        "y = [classify_subject(text) for text in preprocessed_text]\n",
        "\n",
        "# Encode the labels\n",
        "label_encoder = LabelEncoder()\n",
        "y_encoded = label_encoder.fit_transform(y)\n",
        "\n",
        "# Apply RandomOverSampler to balance the dataset\n",
        "ros = RandomOverSampler(random_state=42)\n",
        "X_resampled, y_resampled = ros.fit_resample(X, y_encoded)\n",
        "\n",
        "# Check new class distribution\n",
        "print(\"Class distribution after RandomOverSampler:\", Counter(y_resampled))\n",
        "\n",
        "# Split the data with stratification\n",
        "X_train, X_test, y_train, y_test = train_test_split(X_resampled, y_resampled, test_size=0.2, random_state=42, stratify=y_resampled)\n",
        "\n",
        "# Train the model\n",
        "clf = LogisticRegression(max_iter=1000)\n",
        "clf.fit(X_train, y_train)\n",
        "\n",
        "# Predict and evaluate\n",
        "y_pred = clf.predict(X_test)\n",
        "print(classification_report(y_test, y_pred, target_names=label_encoder.classes_))\n",
        "\n",
        "# Confusion Matrix\n",
        "cm = confusion_matrix(y_test, y_pred, labels=label_encoder.transform(label_encoder.classes_))\n",
        "disp = ConfusionMatrixDisplay(confusion_matrix=cm, display_labels=label_encoder.classes_)\n",
        "disp.plot()\n",
        "plt.show()\n",
        "\n",
        "# Get feature names and coefficients\n",
        "feature_names = vectorizer.get_feature_names_out()\n",
        "coefficients = clf.coef_[0]\n",
        "features_coefficients = sorted(zip(feature_names, coefficients), key=lambda x: x[1], reverse=True)\n",
        "\n",
        "# Display top 10 positive and negative features\n",
        "print(\"Top 10 positive features:\")\n",
        "for feature, coef in features_coefficients[:10]:\n",
        "    print(f\"{feature}: {coef}\")\n",
        "\n",
        "print(\"\\nTop 10 negative features:\")\n",
        "for feature, coef in features_coefficients[-10:]:\n",
        "    print(f\"{feature}: {coef}\")\n"
      ]
    },
    {
      "cell_type": "code",
      "source": [],
      "metadata": {
        "id": "V8piS0_lglXC"
      },
      "execution_count": null,
      "outputs": []
    },
    {
      "cell_type": "code",
      "source": [],
      "metadata": {
        "id": "9bpT_QN0gabv"
      },
      "execution_count": null,
      "outputs": []
    }
  ]
}